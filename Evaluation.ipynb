{
 "cells": [
  {
   "cell_type": "markdown",
   "metadata": {},
   "source": [
    "# Evaluation"
   ]
  },
  {
   "cell_type": "code",
   "execution_count": null,
   "metadata": {},
   "outputs": [],
   "source": [
    "#overlapping modularity\n",
    "#reference:\n",
    "def Emodularity(self, G, com_node, neigh, node_com):\n",
    "        #com_node: {com:[node_id]}, neigh:  {node_id:[node_id,node_id]}, node_com  {node_id:[com_id]}\n",
    "\n",
    "        com = com_node.keys()\n",
    "        m = float(G.number_of_edges())\n",
    "        score = 0\n",
    "        error_node = 0\n",
    "\n",
    "        for c in com:\n",
    "            for v in com_node[c]:\n",
    "                  for u in com_node[c]:\n",
    "                    if v == u:\n",
    "                        pass\n",
    "                    else:\n",
    "                        try:\n",
    "                            if u in neigh[v]:\n",
    "                                a = 1\n",
    "                            else:\n",
    "                                a = 0\n",
    "                            ov = len(node_com[v])\n",
    "                            ou = len(node_com[u])\n",
    "                            kv = len(neigh[v])\n",
    "                            ku = len(neigh[u])\n",
    "                            score = score + (1 / (ov * ou) * (a - (kv * ku) / (2 * m)))\n",
    "                        except Exception as e:\n",
    "                            print(\"节点{}错误\".format(v))\n",
    "                            error_node = error_node + 1\n",
    "                            continue\n",
    "                        else:\n",
    "                            pass\n",
    "        print(\"错误节点数{}\".format(error_node))\n",
    "        score = float(score / (2 * m))\n",
    "        return score"
   ]
  },
  {
   "cell_type": "code",
   "execution_count": null,
   "metadata": {},
   "outputs": [],
   "source": [
    "#similarity compareition"
   ]
  }
 ],
 "metadata": {
  "kernelspec": {
   "display_name": "Python 3",
   "language": "python",
   "name": "python3"
  },
  "language_info": {
   "codemirror_mode": {
    "name": "ipython",
    "version": 3
   },
   "file_extension": ".py",
   "mimetype": "text/x-python",
   "name": "python",
   "nbconvert_exporter": "python",
   "pygments_lexer": "ipython3",
   "version": "3.6.4"
  }
 },
 "nbformat": 4,
 "nbformat_minor": 4
}
