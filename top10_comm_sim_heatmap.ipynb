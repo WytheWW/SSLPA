{
 "cells": [
  {
   "cell_type": "code",
   "execution_count": null,
   "metadata": {},
   "outputs": [],
   "source": [
    "# Similarity heat map of ten largest communities in each graph\n",
    "import seaborn as sns\n",
    "import matplotlib.pyplot as plt\n",
    "import pandas as pd\n",
    "import numpy as np\n",
    "plt.style.use('seaborn-paper')\n",
    "sns.set_theme(style=\"whitegrid\",font=\"Times New Roman\",font_scale=1.8)\n",
    "def hotmap(ds,f):\n",
    "\n",
    "    fig=plt.figure(figsize=(24,24)) \n",
    "    font1 = {'family' : 'Times New Roman',\n",
    "             'weight' : 'normal',\n",
    "             'size'   : 18,}\n",
    "    font2 = {'family' : 'Times New Roman',\n",
    "             'weight' : 'normal',\n",
    "             'size'   : 20,}\n",
    "    i=1\n",
    "    for k,v in ds.items():\n",
    "        print(i)\n",
    "        ax=fig.add_subplot(4,4,i)\n",
    "        ax.set_title(k,fontdict=font1,y=-0.16)\n",
    "        s=v.iloc[0:10,0:10] \n",
    "        labels=np.diag(np.array(s))\n",
    "        cbar_ax = fig.add_axes([.91, .3, .01, .3])\n",
    "        mask = np.zeros_like(s)\n",
    "        \n",
    "        mask[np.triu_indices_from(mask,k=1)] = True\n",
    "        with sns.axes_style(\"white\"):\n",
    "            sns.heatmap(s,mask=mask,ax=ax, annot=False,vmax=1, vmin=0,square=True,fmt='.3f'\n",
    "#                         ,cbar=False\n",
    "                        ,cbar=True,cbar_ax=cbar_ax\n",
    "                       )\n",
    "        # tag the diagon,if needed\n",
    "#         for p in range(len(s)):\n",
    "#             text = ax.text(p+0.5, p+0.5, \"%.2f\"%s.iloc[p, p],ha=\"center\", va=\"center\", color=\"w\",fontsize=16)\n",
    "        i=i+1\n",
    "        plt.subplots_adjust(wspace=0.1,hspace=0.16)\n",
    "    plt.savefig(f,bbox_inches='tight',dpi=600)\n",
    "    plt.show()\n",
    "# The input file filled by similarity matrix\n",
    "f='/slpa_10_combine.xlsx'\n",
    "g_list=['PRPER','PRAB','PRFLUIDS','PRI','PRSTPER','PRAPPLIED','PRX','PRSTAB','RMP',\n",
    "       'PRE','PR','PRC','PRA','PRD','PRL','PRB']\n",
    "# output file\n",
    "fo='/top10_similarity.png'\n",
    "data={}\n",
    "for g in g_list:\n",
    "    dt=pd.read_excel(f,sheet_name=g,header=0,index_col=0)\n",
    "    data[g]=dt\n",
    "hotmap(data,fo)"
   ]
  }
 ],
 "metadata": {
  "kernelspec": {
   "display_name": "Python 3",
   "language": "python",
   "name": "python3"
  },
  "language_info": {
   "codemirror_mode": {
    "name": "ipython",
    "version": 3
   },
   "file_extension": ".py",
   "mimetype": "text/x-python",
   "name": "python",
   "nbconvert_exporter": "python",
   "pygments_lexer": "ipython3",
   "version": "3.6.4"
  }
 },
 "nbformat": 4,
 "nbformat_minor": 4
}
